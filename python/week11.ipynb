{
 "cells": [
  {
   "cell_type": "code",
   "execution_count": 1,
   "metadata": {},
   "outputs": [
    {
     "name": "stdout",
     "output_type": "stream",
     "text": [
      "파이썬 : 2\n",
      "파일 : 2\n",
      "읽기 : 2\n",
      "예제입니다. : 2\n",
      "다양한 : 1\n",
      "메소드를 : 1\n",
      "공부해 : 1\n",
      "보세요. : 1\n",
      "실력이 : 1\n",
      "팍팍 : 1\n",
      "늘 : 1\n",
      "거예요~ : 1\n",
      "단어 : 1\n",
      "수를 : 1\n",
      "카운트하는 : 1\n",
      "실습 : 1\n"
     ]
    }
   ],
   "source": [
    "file = open('README.txt', 'r')\n",
    "\n",
    "dict = {}\n",
    "\n",
    "for line in file:\n",
    "    list = line.strip().split()\n",
    "    for i in list:\n",
    "        if i in dict:\n",
    "            dict[i] += 1\n",
    "        else:\n",
    "            dict[i] = 1\n",
    "\n",
    "for key, value in dict.items():\n",
    "    print(\"{0} : {1}\".format(key, value))\n",
    "\n",
    "file.close()"
   ]
  },
  {
   "cell_type": "code",
   "execution_count": 3,
   "metadata": {
    "scrolled": true
   },
   "outputs": [
    {
     "name": "stdout",
     "output_type": "stream",
     "text": [
      "(1, 2)\n",
      "(3, 4)\n",
      "(2, 3)\n",
      "(4, 5)\n"
     ]
    }
   ],
   "source": [
    "class Point:\n",
    "    def __init__(self, x, y):\n",
    "        self.x = x\n",
    "        self.y = y\n",
    "\n",
    "    def move(self, dx, dy):\n",
    "        self.x += dx\n",
    "        self.y += dy\n",
    "    \n",
    "    def show(self):\n",
    "        print(\"({0:d}, {1:d})\".format(self.x, self.y)) \n",
    "\n",
    "\n",
    "point1 = Point(1, 2)\n",
    "point2 = Point(3, 4)\n",
    "point1.show()\n",
    "point2.show()\n",
    "\n",
    "class Box(Point):\n",
    "    def __init__(self, p1, p2):\n",
    "        self.p1 = p1\n",
    "        self.p2 = p2\n",
    "\n",
    "    def move(self, dx, dy):\n",
    "        self.p1.move(dx, dy)\n",
    "        self.p2.move(dx, dy)\n",
    "    \n",
    "    def show(self):\n",
    "        self.p1.show()\n",
    "        self.p2.show()\n",
    "\n",
    "box = Box(point1, point2)\n",
    "box.move(1, 1)\n",
    "box.show()"
   ]
  }
 ],
 "metadata": {
  "interpreter": {
   "hash": "082e9a3bcad0a290d0001e938aa60b99250c6c2ef33a923c00b70f9826caf4b7"
  },
  "kernelspec": {
   "display_name": "Python 3 (ipykernel)",
   "language": "python",
   "name": "python3"
  },
  "language_info": {
   "codemirror_mode": {
    "name": "ipython",
    "version": 3
   },
   "file_extension": ".py",
   "mimetype": "text/x-python",
   "name": "python",
   "nbconvert_exporter": "python",
   "pygments_lexer": "ipython3",
   "version": "3.8.10"
  }
 },
 "nbformat": 4,
 "nbformat_minor": 2
}
