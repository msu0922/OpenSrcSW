{
 "cells": [
  {
   "cell_type": "code",
   "execution_count": 1,
   "metadata": {},
   "outputs": [
    {
     "name": "stdout",
     "output_type": "stream",
     "text": [
      "Docs1 & Query: 0.5773502691896258\n",
      "Docs2 & Query: 0.8660254037844387\n",
      "Docs3 & Query: 0.6666666666666667\n"
     ]
    }
   ],
   "source": [
    "import numpy as np\n",
    "\n",
    "def cosSim(doc, query):\n",
    "    return float((np.dot(doc, query) / (np.linalg.norm(doc) * np.linalg.norm(query))))\n",
    "\n",
    "docs = np.array([(1, 1, 0, 1, 0, 1), (1, 1, 1, 0, 1, 0), (1, 1, 0, 1, 0, 0)])\n",
    "query = np.array([1, 1, 0, 0, 1, 0])\n",
    "\n",
    "for i in range(len(docs)):\n",
    "    print('Docs{} & Query: {}'.format(i+1, cosSim(docs[i], query)))"
   ]
  },
  {
   "cell_type": "code",
   "execution_count": 2,
   "metadata": {},
   "outputs": [
    {
     "name": "stdout",
     "output_type": "stream",
     "text": [
      "        unit price  number  total price\n",
      "store1        1000      25        25000\n",
      "store2         280     120        33600\n",
      "store3         900      30        27000\n"
     ]
    },
    {
     "data": {
      "text/html": [
       "<div>\n",
       "<style scoped>\n",
       "    .dataframe tbody tr th:only-of-type {\n",
       "        vertical-align: middle;\n",
       "    }\n",
       "\n",
       "    .dataframe tbody tr th {\n",
       "        vertical-align: top;\n",
       "    }\n",
       "\n",
       "    .dataframe thead th {\n",
       "        text-align: right;\n",
       "    }\n",
       "</style>\n",
       "<table border=\"1\" class=\"dataframe\">\n",
       "  <thead>\n",
       "    <tr style=\"text-align: right;\">\n",
       "      <th></th>\n",
       "      <th>unit price</th>\n",
       "      <th>number</th>\n",
       "      <th>total price</th>\n",
       "    </tr>\n",
       "  </thead>\n",
       "  <tbody>\n",
       "    <tr>\n",
       "      <th>store2</th>\n",
       "      <td>280</td>\n",
       "      <td>120</td>\n",
       "      <td>33600</td>\n",
       "    </tr>\n",
       "  </tbody>\n",
       "</table>\n",
       "</div>"
      ],
      "text/plain": [
       "        unit price  number  total price\n",
       "store2         280     120        33600"
      ]
     },
     "execution_count": 2,
     "metadata": {},
     "output_type": "execute_result"
    }
   ],
   "source": [
    "import pandas as pd\n",
    "import numpy as np\n",
    "\n",
    "def MaxTotal(df):\n",
    "    temp = 0\n",
    "    idx = 0\n",
    "    for i in range(len(df.index)):\n",
    "        if (df['total price'][i] >= temp):\n",
    "            temp = df['total price'][i]\n",
    "            idx = i\n",
    "\n",
    "    return df.loc[[df.index[idx]]]\n",
    "        \n",
    "\n",
    "df = pd.DataFrame(np.array([(1000, 25), (280, 120), (900, 30)]), index = ['store1', 'store2', 'store3'], columns = ['unit price', 'number'])\n",
    "df['total price'] = df['unit price'] * df['number']\n",
    "\n",
    "print(df)\n",
    "\n",
    "MaxTotal(df)"
   ]
  }
 ],
 "metadata": {
  "interpreter": {
   "hash": "98590ff4fe04c8543246b2a01debd3de3c5ca9b666f43f1fa87d5110c692004c"
  },
  "kernelspec": {
   "display_name": "Python 3 (ipykernel)",
   "language": "python",
   "name": "python3"
  },
  "language_info": {
   "codemirror_mode": {
    "name": "ipython",
    "version": 3
   },
   "file_extension": ".py",
   "mimetype": "text/x-python",
   "name": "python",
   "nbconvert_exporter": "python",
   "pygments_lexer": "ipython3",
   "version": "3.10.4"
  }
 },
 "nbformat": 4,
 "nbformat_minor": 2
}
