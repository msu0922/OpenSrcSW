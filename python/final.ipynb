{
 "cells": [
  {
   "cell_type": "code",
   "execution_count": 6,
   "metadata": {},
   "outputs": [
    {
     "name": "stdout",
     "output_type": "stream",
     "text": [
      "백신이 가장 많이 접종된 날: 2021-06-28\n",
      "백신이 가장 적게 접종된 날: 2022-03-25\n"
     ]
    }
   ],
   "source": [
    "import csv\n",
    "import matplotlib.pyplot as plt\n",
    "\n",
    "file = open('country_vaccinations.csv', 'r')\n",
    "\n",
    "data = csv.reader(file)\n",
    "\n",
    "header = next(data)\n",
    "# ['country', 'iso_code', 'date', 'total_vaccinations', 'people_vaccinated', 'people_fully_vaccinated', 'daily_vaccinations_raw', 'daily_vaccinations', \n",
    "# 'total_vaccinations_per_hundred', 'people_vaccinated_per_hundred', 'people_fully_vaccinated_per_hundred', 'daily_vaccinations_per_million', 'vaccines', 'source_name', 'source_website']\n",
    "\n",
    "maxVaccination = 0\n",
    "maxVaccinationDate = ''\n",
    "minVaccination = 9999999\n",
    "minVaccinationDate = ''\n",
    "\n",
    "for row in data:\n",
    "    if row[7] != '':\n",
    "        if float(row[7]) >= maxVaccination:\n",
    "            maxVaccination = float(row[7])\n",
    "            maxVaccinationDate = row[2]\n",
    "        if float(row[7]) <= minVaccination:\n",
    "            minVaccination = float(row[7])\n",
    "            minVaccinationDate = row[2]\n",
    "\n",
    "print(f'백신이 가장 많이 접종된 날: {maxVaccinationDate}\\n백신이 가장 적게 접종된 날: {minVaccinationDate}')\n",
    "\n",
    "file.close()"
   ]
  },
  {
   "cell_type": "code",
   "execution_count": 25,
   "metadata": {},
   "outputs": [
    {
     "ename": "TypeError",
     "evalue": "'float' object cannot be interpreted as an integer",
     "output_type": "error",
     "traceback": [
      "\u001b[0;31m---------------------------------------------------------------------------\u001b[0m",
      "\u001b[0;31mTypeError\u001b[0m                                 Traceback (most recent call last)",
      "\u001b[1;32m/Users/minsewoong/Desktop/세웅이네집/workspace_Python/OpenSrcSW/final.ipynb Cell 2'\u001b[0m in \u001b[0;36m<cell line: 33>\u001b[0;34m()\u001b[0m\n\u001b[1;32m     <a href='vscode-notebook-cell:/Users/minsewoong/Desktop/%EC%84%B8%EC%9B%85%EC%9D%B4%EB%84%A4%EC%A7%91/workspace_Python/OpenSrcSW/final.ipynb#ch0000001?line=29'>30</a>\u001b[0m     temp\u001b[39m.\u001b[39mappend(keys)\n\u001b[1;32m     <a href='vscode-notebook-cell:/Users/minsewoong/Desktop/%EC%84%B8%EC%9B%85%EC%9D%B4%EB%84%A4%EC%A7%91/workspace_Python/OpenSrcSW/final.ipynb#ch0000001?line=30'>31</a>\u001b[0m     temp\u001b[39m.\u001b[39mappend(values)\n\u001b[0;32m---> <a href='vscode-notebook-cell:/Users/minsewoong/Desktop/%EC%84%B8%EC%9B%85%EC%9D%B4%EB%84%A4%EC%A7%91/workspace_Python/OpenSrcSW/final.ipynb#ch0000001?line=32'>33</a>\u001b[0m vaccine \u001b[39m=\u001b[39m np\u001b[39m.\u001b[39;49marray(temp)\u001b[39m.\u001b[39;49mreshape(\u001b[39mlen\u001b[39;49m(temp)\u001b[39m/\u001b[39;49m\u001b[39m2\u001b[39;49m, \u001b[39m2\u001b[39;49m)\n\u001b[1;32m     <a href='vscode-notebook-cell:/Users/minsewoong/Desktop/%EC%84%B8%EC%9B%85%EC%9D%B4%EB%84%A4%EC%A7%91/workspace_Python/OpenSrcSW/final.ipynb#ch0000001?line=34'>35</a>\u001b[0m vaccine\n\u001b[1;32m     <a href='vscode-notebook-cell:/Users/minsewoong/Desktop/%EC%84%B8%EC%9B%85%EC%9D%B4%EB%84%A4%EC%A7%91/workspace_Python/OpenSrcSW/final.ipynb#ch0000001?line=36'>37</a>\u001b[0m \u001b[39m# df = pd.DataFrame(np.array(vaccineDict.items()), index = '백신 이름', columns = '접종 국가수')\u001b[39;00m\n",
      "\u001b[0;31mTypeError\u001b[0m: 'float' object cannot be interpreted as an integer"
     ]
    }
   ],
   "source": [
    "import csv\n",
    "import matplotlib.pyplot as plt\n",
    "import numpy as np\n",
    "import pandas as pd\n",
    "\n",
    "file = open('country_vaccinations.csv', 'r')\n",
    "\n",
    "data = csv.reader(file)\n",
    "\n",
    "header = next(data)\n",
    "# ['country', 'iso_code', 'date', 'total_vaccinations', 'people_vaccinated', 'people_fully_vaccinated', 'daily_vaccinations_raw', 'daily_vaccinations', \n",
    "# 'total_vaccinations_per_hundred', 'people_vaccinated_per_hundred', 'people_fully_vaccinated_per_hundred', 'daily_vaccinations_per_million', 'vaccines', 'source_name', 'source_website']\n",
    "\n",
    "vaccineDict = {}\n",
    "# ['Johnson&Johnson', ' Oxford/AstraZeneca', ' Pfizer/BioNTech', ' Sinopharm/Beijing', 'Oxford/AstraZeneca', ' Sinovac', ' Sputnik V', 'Moderna', 'CanSino', ' Moderna', 'Pfizer/BioNTech', \n",
    "# ' Novavax', ' Sputnik Light', 'Sinopharm/Beijing', 'Covaxin', ' Johnson&Johnson', ' Sinopharm/Wuhan', ' ZF2001', 'Abdala', ' Soberana Plus', ' Soberana02', 'COVIran Barekat', ' Covaxin', \n",
    "# ' FAKHRAVAC', ' Razi Cov Pars', ' SpikoGen', 'QazVac', 'EpiVacCorona', 'Medigen', ' Turkovac', ' QazVac']\n",
    "\n",
    "for row in data:\n",
    "    lst = row[-3].split(',')\n",
    "\n",
    "    for i in range(len(lst)):\n",
    "        if lst[i] not in vaccineDict:\n",
    "            vaccineDict[lst[i]] = 1\n",
    "        else:\n",
    "            vaccineDict[lst[i]] += 1\n",
    "\n",
    "temp = []\n",
    "for keys, values in vaccineDict.items():\n",
    "    temp.append(keys)\n",
    "    temp.append(values)\n",
    "\n",
    "vaccine = np.array(temp).reshape(len(temp)/2, 2)\n",
    "\n",
    "vaccine\n",
    "\n",
    "# df = pd.DataFrame(np.array(vaccineDict.items()), index = '백신 이름', columns = '접종 국가수')\n",
    "\n",
    "file.close()"
   ]
  }
 ],
 "metadata": {
  "kernelspec": {
   "display_name": "Python 3.10.4 64-bit",
   "language": "python",
   "name": "python3"
  },
  "language_info": {
   "codemirror_mode": {
    "name": "ipython",
    "version": 3
   },
   "file_extension": ".py",
   "mimetype": "text/x-python",
   "name": "python",
   "nbconvert_exporter": "python",
   "pygments_lexer": "ipython3",
   "version": "3.10.4"
  },
  "orig_nbformat": 4,
  "vscode": {
   "interpreter": {
    "hash": "98590ff4fe04c8543246b2a01debd3de3c5ca9b666f43f1fa87d5110c692004c"
   }
  }
 },
 "nbformat": 4,
 "nbformat_minor": 2
}
