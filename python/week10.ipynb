{
 "cells": [
  {
   "cell_type": "code",
   "execution_count": 1,
   "metadata": {
    "scrolled": true
   },
   "outputs": [
    {
     "name": "stdout",
     "output_type": "stream",
     "text": [
      "죽는 날까지 하늘을 우러러\n",
      "한 점 부끄럼이 없기를,\n",
      "잎새에 이는 바람에도\n",
      "너는 괴로워했다.\n",
      "별을 노래하는 마음으로\n",
      "모든 죽어가는 것을 사랑해야지\n",
      "그리고 너한테 주어진 길을\n",
      "걸어가야겠다.\n",
      "오늘 밤에도 별이 바람에 스치운다.\n"
     ]
    }
   ],
   "source": [
    "str = \"\"\"  죽는 날까지 하늘을 우러러\n",
    "한 점 부끄럼이 없기를,\n",
    "잎새에 이는 바람에도\n",
    "나는 괴로워했다.\n",
    "별을 노래하는 마음으로\n",
    "모든 죽어가는 것을 사랑해야지\n",
    "그리고 나한테 주어진 길을\n",
    "걸어가야겠다.\n",
    "오늘 밤에도 별이 바람에 스치운다.  \"\"\"\n",
    "\n",
    "str = str.strip().replace(\"나\", \"너\")\n",
    "print(str)"
   ]
  },
  {
   "cell_type": "code",
   "execution_count": 3,
   "metadata": {},
   "outputs": [
    {
     "name": "stdout",
     "output_type": "stream",
     "text": [
      "Number? 10 456 87 78\n",
      "Max = 456\n"
     ]
    }
   ],
   "source": [
    "numStr = input(\"Number? \")\n",
    "numStr = numStr.split()\n",
    "max = 0\n",
    "\n",
    "for i in range(len(numStr)):\n",
    "    if (int(numStr[i]) >= max):\n",
    "        max = int(numStr[i])\n",
    "\n",
    "print(\"Max =\", max)\n"
   ]
  },
  {
   "cell_type": "code",
   "execution_count": 7,
   "metadata": {},
   "outputs": [
    {
     "name": "stdout",
     "output_type": "stream",
     "text": [
      "\"abc def\" -> 암호화 -> \"efg!bcd\"\n",
      "\"efg!bcd\" -> 복호화 -> \"abc def\"\n"
     ]
    }
   ],
   "source": [
    "# ord(문자)\n",
    "# chr(숫자)\n",
    "\n",
    "string = \"abc def\"\n",
    "key = 1\n",
    "\n",
    "def convert(str, num):\n",
    "    newStr = \"\"\n",
    "    for i in str:\n",
    "        newStr += chr(ord(i)+ num)\n",
    "    return newStr\n",
    "\n",
    "def encode(str, key):\n",
    "    strList = str.split()\n",
    "    strList.reverse()\n",
    "    newStr = \" \".join(strList)\n",
    "    return convert(newStr, key)\n",
    "\n",
    "def decode(str, key):\n",
    "    strList = convert(str, -1 * key).split()\n",
    "    strList.reverse()\n",
    "    newStr = \" \".join(strList)\n",
    "    return newStr\n",
    "\n",
    "encodedString = encode(string, key)\n",
    "decodedString = decode(encodedString, key)\n",
    "\n",
    "print(\"\\\"{0:s}\\\" -> 암호화 -> \\\"{1:s}\\\"\".format(string, encodedString))\n",
    "print(\"\\\"{0:s}\\\" -> 복호화 -> \\\"{1:s}\\\"\".format(encodedString, decodedString))"
   ]
  }
 ],
 "metadata": {
  "interpreter": {
   "hash": "98590ff4fe04c8543246b2a01debd3de3c5ca9b666f43f1fa87d5110c692004c"
  },
  "kernelspec": {
   "display_name": "Python 3 (ipykernel)",
   "language": "python",
   "name": "python3"
  },
  "language_info": {
   "codemirror_mode": {
    "name": "ipython",
    "version": 3
   },
   "file_extension": ".py",
   "mimetype": "text/x-python",
   "name": "python",
   "nbconvert_exporter": "python",
   "pygments_lexer": "ipython3",
   "version": "3.10.4"
  }
 },
 "nbformat": 4,
 "nbformat_minor": 2
}
